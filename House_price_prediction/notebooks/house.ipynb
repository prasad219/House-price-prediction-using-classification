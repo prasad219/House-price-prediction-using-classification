{
 "cells": [
  {
   "cell_type": "code",
   "execution_count": 1,
   "id": "3ac30808-20e6-46ef-bc82-7aaf76d61475",
   "metadata": {},
   "outputs": [],
   "source": [
    "import pandas as pd\n",
    "import numpy as np\n",
    "from sklearn.model_selection import train_test_split\n",
    "from sklearn.preprocessing import StandardScaler\n",
    "from sklearn.metrics import accuracy_score\n",
    "from sklearn.ensemble import RandomForestClassifier\n",
    "from sklearn.svm import SVC\n",
    "from sklearn.linear_model import LogisticRegression\n",
    "from sklearn.neighbors import KNeighborsClassifier\n",
    "from sklearn.tree import DecisionTreeClassifier\n",
    "from sklearn.naive_bayes import GaussianNB\n",
    "import pickle\n",
    "\n",
    "df = pd.read_csv('MagicBricks_Updated_Clear_Locality_draft15122023.csv')"
   ]
  },
  {
   "cell_type": "code",
   "execution_count": 2,
   "id": "98373b1e-f21d-47fd-87e1-3de7ece9b038",
   "metadata": {},
   "outputs": [],
   "source": [
    "Q1 = df['Price'].quantile(0.10)\n",
    "Q3 = df['Price'].quantile(0.90)\n",
    "\n",
    "PQ1 = df['Per_Sqft'].quantile(0.10)\n",
    "PQ3 = df['Per_Sqft'].quantile(0.90)\n",
    "\n",
    "AQ1 = df['Area'].quantile(0.10)\n",
    "AQ3 = df['Area'].quantile(0.90)"
   ]
  },
  {
   "cell_type": "code",
   "execution_count": 3,
   "id": "2b4d09ac-4ff9-45ec-969a-a891c8dcfe04",
   "metadata": {},
   "outputs": [],
   "source": [
    "df1=df[(df['Price']>Q1) & (df['Price']<Q3) & (df['Per_Sqft']>PQ1) & (df['Per_Sqft']<PQ3) & (df['Area']>AQ1) & (df['Area']<AQ3)]"
   ]
  },
  {
   "cell_type": "code",
   "execution_count": 4,
   "id": "4a03c819-9029-4e77-8c0f-c86999565319",
   "metadata": {},
   "outputs": [],
   "source": [
    "df1=df1.dropna()"
   ]
  },
  {
   "cell_type": "code",
   "execution_count": 5,
   "id": "d8ea0661-8d20-49af-9a10-7e8609d010b6",
   "metadata": {},
   "outputs": [
    {
     "name": "stdout",
     "output_type": "stream",
     "text": [
      "        Area  BHK  Bathroom      Furnishing                   Locality  \\\n",
      "1      750.0    2       2.0  Semi-Furnished           Rohini Sector 24   \n",
      "2      950.0    2       2.0       Furnished           Rohini Sector 13   \n",
      "3      600.0    2       2.0  Semi-Furnished           Rohini Sector 24   \n",
      "4      650.0    2       2.0  Semi-Furnished           Rohini Sector 24   \n",
      "5     1300.0    4       3.0  Semi-Furnished           Rohini Sector 24   \n",
      "...      ...  ...       ...             ...                        ...   \n",
      "1252  1800.0    3       3.0  Semi-Furnished                    Kalkaji   \n",
      "1253  1200.0    3       3.0  Semi-Furnished          Chittaranjan Park   \n",
      "1255  1050.0    3       2.0  Semi-Furnished          Chittaranjan Park   \n",
      "1256   875.0    3       3.0  Semi-Furnished          Chittaranjan Park   \n",
      "1257   990.0    2       2.0     Unfurnished  Chittaranjan Park Block A   \n",
      "\n",
      "      Parking     Price         Status   Transaction           Type  Per_Sqft  \\\n",
      "1         1.0   5000000  Ready_to_move  New_Property      Apartment    6667.0   \n",
      "2         1.0  15500000  Ready_to_move        Resale      Apartment    6667.0   \n",
      "3         1.0   4200000  Ready_to_move        Resale  Builder_Floor    6667.0   \n",
      "4         1.0   6200000  Ready_to_move  New_Property  Builder_Floor    6667.0   \n",
      "5         1.0  15500000  Ready_to_move  New_Property  Builder_Floor    6667.0   \n",
      "...       ...       ...            ...           ...            ...       ...   \n",
      "1252      1.0  26000000  Ready_to_move        Resale  Builder_Floor   12916.0   \n",
      "1253      1.0  16500000  Ready_to_move        Resale  Builder_Floor   12916.0   \n",
      "1255      3.0  12500000  Ready_to_move        Resale  Builder_Floor   12916.0   \n",
      "1256      3.0  17500000  Ready_to_move  New_Property  Builder_Floor   12916.0   \n",
      "1257      1.0  11500000  Ready_to_move        Resale  Builder_Floor   12916.0   \n",
      "\n",
      "     Price_range  \n",
      "1            Low  \n",
      "2           High  \n",
      "3            Low  \n",
      "4         Medium  \n",
      "5           High  \n",
      "...          ...  \n",
      "1252        High  \n",
      "1253        High  \n",
      "1255        High  \n",
      "1256        High  \n",
      "1257        High  \n",
      "\n",
      "[569 rows x 12 columns]\n"
     ]
    }
   ],
   "source": [
    "threshold_low = 6000000\n",
    "threshold_high = 10000000\n",
    "\n",
    "# Function to compare values with thresholds\n",
    "def compare_with_threshold(value):\n",
    "    if value < threshold_low:\n",
    "        return 'Low'\n",
    "    elif threshold_low <= value <= threshold_high:\n",
    "        return 'Medium'\n",
    "    else:\n",
    "        return 'High'\n",
    "\n",
    "# Apply the function to create a new column\n",
    "df1['Price_range'] = df1['Price'].apply(compare_with_threshold)\n",
    "\n",
    "# Display the DataFrame\n",
    "print(df1)"
   ]
  },
  {
   "cell_type": "code",
   "execution_count": 6,
   "id": "8ca87e50-8d69-49c4-8659-9683e9c7240b",
   "metadata": {},
   "outputs": [
    {
     "data": {
      "text/html": [
       "<div>\n",
       "<style scoped>\n",
       "    .dataframe tbody tr th:only-of-type {\n",
       "        vertical-align: middle;\n",
       "    }\n",
       "\n",
       "    .dataframe tbody tr th {\n",
       "        vertical-align: top;\n",
       "    }\n",
       "\n",
       "    .dataframe thead th {\n",
       "        text-align: right;\n",
       "    }\n",
       "</style>\n",
       "<table border=\"1\" class=\"dataframe\">\n",
       "  <thead>\n",
       "    <tr style=\"text-align: right;\">\n",
       "      <th></th>\n",
       "      <th>Area</th>\n",
       "      <th>BHK</th>\n",
       "      <th>Bathroom</th>\n",
       "      <th>Furnishing</th>\n",
       "      <th>Locality</th>\n",
       "      <th>Parking</th>\n",
       "      <th>Price</th>\n",
       "      <th>Status</th>\n",
       "      <th>Transaction</th>\n",
       "      <th>Type</th>\n",
       "      <th>Per_Sqft</th>\n",
       "      <th>Price_range</th>\n",
       "    </tr>\n",
       "  </thead>\n",
       "  <tbody>\n",
       "    <tr>\n",
       "      <th>1</th>\n",
       "      <td>750.0</td>\n",
       "      <td>2</td>\n",
       "      <td>2.0</td>\n",
       "      <td>1</td>\n",
       "      <td>55</td>\n",
       "      <td>1.0</td>\n",
       "      <td>5000000</td>\n",
       "      <td>1</td>\n",
       "      <td>0</td>\n",
       "      <td>0</td>\n",
       "      <td>6667.0</td>\n",
       "      <td>1</td>\n",
       "    </tr>\n",
       "    <tr>\n",
       "      <th>2</th>\n",
       "      <td>950.0</td>\n",
       "      <td>2</td>\n",
       "      <td>2.0</td>\n",
       "      <td>0</td>\n",
       "      <td>47</td>\n",
       "      <td>1.0</td>\n",
       "      <td>15500000</td>\n",
       "      <td>1</td>\n",
       "      <td>1</td>\n",
       "      <td>0</td>\n",
       "      <td>6667.0</td>\n",
       "      <td>0</td>\n",
       "    </tr>\n",
       "    <tr>\n",
       "      <th>3</th>\n",
       "      <td>600.0</td>\n",
       "      <td>2</td>\n",
       "      <td>2.0</td>\n",
       "      <td>1</td>\n",
       "      <td>55</td>\n",
       "      <td>1.0</td>\n",
       "      <td>4200000</td>\n",
       "      <td>1</td>\n",
       "      <td>1</td>\n",
       "      <td>1</td>\n",
       "      <td>6667.0</td>\n",
       "      <td>1</td>\n",
       "    </tr>\n",
       "    <tr>\n",
       "      <th>4</th>\n",
       "      <td>650.0</td>\n",
       "      <td>2</td>\n",
       "      <td>2.0</td>\n",
       "      <td>1</td>\n",
       "      <td>55</td>\n",
       "      <td>1.0</td>\n",
       "      <td>6200000</td>\n",
       "      <td>1</td>\n",
       "      <td>0</td>\n",
       "      <td>1</td>\n",
       "      <td>6667.0</td>\n",
       "      <td>2</td>\n",
       "    </tr>\n",
       "    <tr>\n",
       "      <th>5</th>\n",
       "      <td>1300.0</td>\n",
       "      <td>4</td>\n",
       "      <td>3.0</td>\n",
       "      <td>1</td>\n",
       "      <td>55</td>\n",
       "      <td>1.0</td>\n",
       "      <td>15500000</td>\n",
       "      <td>1</td>\n",
       "      <td>0</td>\n",
       "      <td>1</td>\n",
       "      <td>6667.0</td>\n",
       "      <td>0</td>\n",
       "    </tr>\n",
       "  </tbody>\n",
       "</table>\n",
       "</div>"
      ],
      "text/plain": [
       "     Area  BHK  Bathroom  Furnishing  Locality  Parking     Price  Status  \\\n",
       "1   750.0    2       2.0           1        55      1.0   5000000       1   \n",
       "2   950.0    2       2.0           0        47      1.0  15500000       1   \n",
       "3   600.0    2       2.0           1        55      1.0   4200000       1   \n",
       "4   650.0    2       2.0           1        55      1.0   6200000       1   \n",
       "5  1300.0    4       3.0           1        55      1.0  15500000       1   \n",
       "\n",
       "   Transaction  Type  Per_Sqft  Price_range  \n",
       "1            0     0    6667.0            1  \n",
       "2            1     0    6667.0            0  \n",
       "3            1     1    6667.0            1  \n",
       "4            0     1    6667.0            2  \n",
       "5            0     1    6667.0            0  "
      ]
     },
     "execution_count": 6,
     "metadata": {},
     "output_type": "execute_result"
    }
   ],
   "source": [
    "from sklearn.preprocessing import LabelEncoder\n",
    "label_encoder = LabelEncoder()\n",
    "\n",
    "columns_to_encode = ['Furnishing', 'Status', 'Transaction', 'Type','Locality','Price_range']\n",
    "\n",
    "for column in columns_to_encode:\n",
    "    df1[column] = label_encoder.fit_transform(df1[column])\n",
    "\n",
    "df1.head()"
   ]
  },
  {
   "cell_type": "code",
   "execution_count": 7,
   "id": "566658db-365f-4fc6-a89b-e178d002294e",
   "metadata": {},
   "outputs": [
    {
     "name": "stdout",
     "output_type": "stream",
     "text": [
      "Random Forest: Accuracy - 0.8322\n",
      "Support Vector Machine: Accuracy - 0.7063\n",
      "Logistic Regression: Accuracy - 0.7273\n",
      "K-Nearest Neighbors: Accuracy - 0.7622\n",
      "Decision Tree: Accuracy - 0.7972\n",
      "Naive Bayes: Accuracy - 0.6853\n"
     ]
    },
    {
     "name": "stderr",
     "output_type": "stream",
     "text": [
      "C:\\Users\\prasa\\AppData\\Local\\Programs\\Python\\Python312\\Lib\\site-packages\\sklearn\\linear_model\\_logistic.py:460: ConvergenceWarning: lbfgs failed to converge (status=1):\n",
      "STOP: TOTAL NO. of ITERATIONS REACHED LIMIT.\n",
      "\n",
      "Increase the number of iterations (max_iter) or scale the data as shown in:\n",
      "    https://scikit-learn.org/stable/modules/preprocessing.html\n",
      "Please also refer to the documentation for alternative solver options:\n",
      "    https://scikit-learn.org/stable/modules/linear_model.html#logistic-regression\n",
      "  n_iter_i = _check_optimize_result(\n"
     ]
    }
   ],
   "source": [
    "X=df1.drop([\"Price_range\",'Price'],axis=1)\n",
    "y=df1['Price_range']\n",
    "\n",
    "X_train, X_test, y_train, y_test = train_test_split(X, y, test_size=0.25,random_state=33)\n",
    "\n",
    "classifiers = {\n",
    "    'Random Forest': RandomForestClassifier(),\n",
    "    'Support Vector Machine': SVC(),\n",
    "    'Logistic Regression': LogisticRegression(),\n",
    "    'K-Nearest Neighbors': KNeighborsClassifier(),\n",
    "    'Decision Tree': DecisionTreeClassifier(),\n",
    "    'Naive Bayes': GaussianNB()\n",
    "}\n",
    "\n",
    "for name, classifier in classifiers.items():\n",
    "    classifier.fit(X_train, y_train)\n",
    "    y_pred = classifier.predict(X_test)\n",
    "    accuracy = accuracy_score(y_test, y_pred)\n",
    "    print(f\"{name}: Accuracy - {accuracy:.4f}\")"
   ]
  },
  {
   "cell_type": "code",
   "execution_count": 8,
   "id": "ca80f8dc-dacf-4586-a99b-9a7138f2d2de",
   "metadata": {},
   "outputs": [
    {
     "data": {
      "text/html": [
       "<style>#sk-container-id-1 {color: black;}#sk-container-id-1 pre{padding: 0;}#sk-container-id-1 div.sk-toggleable {background-color: white;}#sk-container-id-1 label.sk-toggleable__label {cursor: pointer;display: block;width: 100%;margin-bottom: 0;padding: 0.3em;box-sizing: border-box;text-align: center;}#sk-container-id-1 label.sk-toggleable__label-arrow:before {content: \"▸\";float: left;margin-right: 0.25em;color: #696969;}#sk-container-id-1 label.sk-toggleable__label-arrow:hover:before {color: black;}#sk-container-id-1 div.sk-estimator:hover label.sk-toggleable__label-arrow:before {color: black;}#sk-container-id-1 div.sk-toggleable__content {max-height: 0;max-width: 0;overflow: hidden;text-align: left;background-color: #f0f8ff;}#sk-container-id-1 div.sk-toggleable__content pre {margin: 0.2em;color: black;border-radius: 0.25em;background-color: #f0f8ff;}#sk-container-id-1 input.sk-toggleable__control:checked~div.sk-toggleable__content {max-height: 200px;max-width: 100%;overflow: auto;}#sk-container-id-1 input.sk-toggleable__control:checked~label.sk-toggleable__label-arrow:before {content: \"▾\";}#sk-container-id-1 div.sk-estimator input.sk-toggleable__control:checked~label.sk-toggleable__label {background-color: #d4ebff;}#sk-container-id-1 div.sk-label input.sk-toggleable__control:checked~label.sk-toggleable__label {background-color: #d4ebff;}#sk-container-id-1 input.sk-hidden--visually {border: 0;clip: rect(1px 1px 1px 1px);clip: rect(1px, 1px, 1px, 1px);height: 1px;margin: -1px;overflow: hidden;padding: 0;position: absolute;width: 1px;}#sk-container-id-1 div.sk-estimator {font-family: monospace;background-color: #f0f8ff;border: 1px dotted black;border-radius: 0.25em;box-sizing: border-box;margin-bottom: 0.5em;}#sk-container-id-1 div.sk-estimator:hover {background-color: #d4ebff;}#sk-container-id-1 div.sk-parallel-item::after {content: \"\";width: 100%;border-bottom: 1px solid gray;flex-grow: 1;}#sk-container-id-1 div.sk-label:hover label.sk-toggleable__label {background-color: #d4ebff;}#sk-container-id-1 div.sk-serial::before {content: \"\";position: absolute;border-left: 1px solid gray;box-sizing: border-box;top: 0;bottom: 0;left: 50%;z-index: 0;}#sk-container-id-1 div.sk-serial {display: flex;flex-direction: column;align-items: center;background-color: white;padding-right: 0.2em;padding-left: 0.2em;position: relative;}#sk-container-id-1 div.sk-item {position: relative;z-index: 1;}#sk-container-id-1 div.sk-parallel {display: flex;align-items: stretch;justify-content: center;background-color: white;position: relative;}#sk-container-id-1 div.sk-item::before, #sk-container-id-1 div.sk-parallel-item::before {content: \"\";position: absolute;border-left: 1px solid gray;box-sizing: border-box;top: 0;bottom: 0;left: 50%;z-index: -1;}#sk-container-id-1 div.sk-parallel-item {display: flex;flex-direction: column;z-index: 1;position: relative;background-color: white;}#sk-container-id-1 div.sk-parallel-item:first-child::after {align-self: flex-end;width: 50%;}#sk-container-id-1 div.sk-parallel-item:last-child::after {align-self: flex-start;width: 50%;}#sk-container-id-1 div.sk-parallel-item:only-child::after {width: 0;}#sk-container-id-1 div.sk-dashed-wrapped {border: 1px dashed gray;margin: 0 0.4em 0.5em 0.4em;box-sizing: border-box;padding-bottom: 0.4em;background-color: white;}#sk-container-id-1 div.sk-label label {font-family: monospace;font-weight: bold;display: inline-block;line-height: 1.2em;}#sk-container-id-1 div.sk-label-container {text-align: center;}#sk-container-id-1 div.sk-container {/* jupyter's `normalize.less` sets `[hidden] { display: none; }` but bootstrap.min.css set `[hidden] { display: none !important; }` so we also need the `!important` here to be able to override the default hidden behavior on the sphinx rendered scikit-learn.org. See: https://github.com/scikit-learn/scikit-learn/issues/21755 */display: inline-block !important;position: relative;}#sk-container-id-1 div.sk-text-repr-fallback {display: none;}</style><div id=\"sk-container-id-1\" class=\"sk-top-container\"><div class=\"sk-text-repr-fallback\"><pre>RandomForestClassifier()</pre><b>In a Jupyter environment, please rerun this cell to show the HTML representation or trust the notebook. <br />On GitHub, the HTML representation is unable to render, please try loading this page with nbviewer.org.</b></div><div class=\"sk-container\" hidden><div class=\"sk-item\"><div class=\"sk-estimator sk-toggleable\"><input class=\"sk-toggleable__control sk-hidden--visually\" id=\"sk-estimator-id-1\" type=\"checkbox\" checked><label for=\"sk-estimator-id-1\" class=\"sk-toggleable__label sk-toggleable__label-arrow\">RandomForestClassifier</label><div class=\"sk-toggleable__content\"><pre>RandomForestClassifier()</pre></div></div></div></div></div>"
      ],
      "text/plain": [
       "RandomForestClassifier()"
      ]
     },
     "execution_count": 8,
     "metadata": {},
     "output_type": "execute_result"
    }
   ],
   "source": [
    "model = RandomForestClassifier()\n",
    "model.fit(X_train, y_train)"
   ]
  },
  {
   "cell_type": "code",
   "execution_count": 10,
   "id": "b37929a1-a584-402f-b175-c92cf99b1321",
   "metadata": {},
   "outputs": [],
   "source": [
    "pickle.dump(model,open('model_house_pricing','wb'))"
   ]
  }
 ],
 "metadata": {
  "kernelspec": {
   "display_name": "Python 3 (ipykernel)",
   "language": "python",
   "name": "python3"
  },
  "language_info": {
   "codemirror_mode": {
    "name": "ipython",
    "version": 3
   },
   "file_extension": ".py",
   "mimetype": "text/x-python",
   "name": "python",
   "nbconvert_exporter": "python",
   "pygments_lexer": "ipython3",
   "version": "3.12.0"
  }
 },
 "nbformat": 4,
 "nbformat_minor": 5
}
